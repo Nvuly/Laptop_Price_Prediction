{
 "cells": [
  {
   "cell_type": "markdown",
   "metadata": {},
   "source": [
    "# Objectives\n",
    "- 노트북 가격 예측(회귀)"
   ]
  },
  {
   "cell_type": "markdown",
   "metadata": {},
   "source": [
    "## Functions"
   ]
  },
  {
   "cell_type": "code",
   "execution_count": 4,
   "metadata": {},
   "outputs": [
    {
     "name": "stdout",
     "output_type": "stream",
     "text": [
      "WARNING:tensorflow:From d:\\Anaconda\\Lib\\site-packages\\keras\\src\\losses.py:2976: The name tf.losses.sparse_softmax_cross_entropy is deprecated. Please use tf.compat.v1.losses.sparse_softmax_cross_entropy instead.\n",
      "\n"
     ]
    }
   ],
   "source": [
    "import numpy as np\n",
    "import pandas as pd\n",
    "#ㅡㅡㅡㅡㅡㅡㅡㅡㅡㅡㅡㅡㅡㅡㅡㅡㅡㅡㅡㅡㅡㅡㅡㅡㅡ\n",
    "import random\n",
    "import os\n",
    "import gc\n",
    "\n",
    "from sklearn.ensemble import RandomForestClassifier\n",
    "from sklearn.preprocessing import LabelEncoder\n",
    "#ㅡㅡㅡㅡㅡㅡㅡㅡㅡㅡㅡㅡㅡㅡㅡㅡㅡㅡㅡㅡㅡㅡㅡㅡㅡ\n",
    "import requests\n",
    "from bs4 import BeautifulSoup\n",
    "import matplotlib.pyplot as plt\n",
    "import seaborn as sns\n",
    "from sklearn.model_selection import GridSearchCV\n",
    "from sklearn.model_selection import train_test_split, KFold, cross_val_score, TimeSeriesSplit\n",
    "from sklearn.metrics import accuracy_score, f1_score, precision_score, recall_score, mean_squared_error, mean_absolute_error\n",
    "from sklearn.metrics.pairwise import linear_kernel\n",
    "from sklearn.tree import DecisionTreeClassifier,plot_tree\n",
    "from sklearn.linear_model import LinearRegression, Ridge, Lasso\n",
    "from sklearn.ensemble import RandomForestRegressor, ExtraTreesRegressor, VotingRegressor, StackingRegressor, AdaBoostRegressor\n",
    "from lightgbm import LGBMClassifier\n",
    "# ㅡㅡㅡㅡㅡㅡㅡㅡㅡㅡㅡㅡㅡㅡㅡㅡㅡㅡㅡㅡㅡㅡㅡㅡㅡㅡㅡㅡㅡㅡㅡㅡㅡㅡㅡㅡㅡㅡㅡㅡㅡㅡㅡㅡㅡㅡㅡ\n",
    "import tensorflow as tf\n",
    "from transformers import pipeline, set_seed, BertTokenizer, TFBertForSequenceClassification\n",
    "# ㅡㅡㅡㅡㅡㅡㅡㅡㅡㅡㅡㅡㅡㅡㅡㅡㅡㅡㅡㅡㅡㅡㅡㅡㅡㅡㅡㅡㅡㅡㅡㅡㅡㅡㅡㅡㅡㅡㅡㅡㅡㅡㅡㅡㅡㅡㅡ\n",
    "import re\n",
    "import nltk \n",
    "from nltk.corpus import stopwords\n",
    "# ㅡㅡㅡㅡㅡㅡㅡㅡㅡㅡㅡㅡㅡㅡㅡㅡㅡㅡㅡㅡㅡㅡㅡㅡㅡㅡㅡㅡㅡㅡㅡㅡㅡㅡㅡㅡㅡㅡㅡㅡㅡㅡㅡㅡㅡㅡㅡ\n",
    "from sentence_transformers import SentenceTransformer"
   ]
  },
  {
   "cell_type": "markdown",
   "metadata": {},
   "source": [
    "## Load Data"
   ]
  },
  {
   "cell_type": "code",
   "execution_count": 5,
   "metadata": {},
   "outputs": [
    {
     "name": "stdout",
     "output_type": "stream",
     "text": [
      "데이터프레임 원본 : \n",
      "     Company            TypeName  Ram  Weight      Price  TouchScreen  Ips  \\\n",
      "0      Apple           Ultrabook    8    1.37  11.175755            0    1   \n",
      "1      Apple           Ultrabook    8    1.34  10.776777            0    0   \n",
      "2         HP            Notebook    8    1.86  10.329931            0    0   \n",
      "3      Apple           Ultrabook   16    1.83  11.814476            0    1   \n",
      "4      Apple           Ultrabook    8    1.37  11.473101            0    1   \n",
      "...      ...                 ...  ...     ...        ...          ...  ...   \n",
      "1268    Asus            Notebook    4    2.20  10.555257            0    0   \n",
      "1269  Lenovo  2 in 1 Convertible    4    1.80  10.433899            1    1   \n",
      "1270  Lenovo  2 in 1 Convertible   16    1.30  11.288115            1    1   \n",
      "1271  Lenovo            Notebook    2    1.50   9.409283            0    0   \n",
      "1272      HP            Notebook    6    2.19  10.614129            0    0   \n",
      "\n",
      "             Ppi              Cpu_brand   HDD  SSD Gpu_brand       Os  \n",
      "0     226.983005          Intel Core i5     0  128     Intel      Mac  \n",
      "1     127.677940          Intel Core i5     0    0     Intel      Mac  \n",
      "2     141.211998          Intel Core i5     0  256     Intel   Others  \n",
      "3     220.534624          Intel Core i7     0  512       AMD      Mac  \n",
      "4     226.983005          Intel Core i5     0  256     Intel      Mac  \n",
      "...          ...                    ...   ...  ...       ...      ...  \n",
      "1268  100.454670          Intel Core i7   500    0    Nvidia  Windows  \n",
      "1269  157.350512          Intel Core i7     0  128     Intel  Windows  \n",
      "1270  276.053530          Intel Core i7     0  512     Intel  Windows  \n",
      "1271  111.935204  Other Intel Processor     0    0     Intel  Windows  \n",
      "1272  100.454670          Intel Core i7  1000    0       AMD  Windows  \n",
      "\n",
      "[1273 rows x 13 columns]\n"
     ]
    }
   ],
   "source": [
    "file_path = 'D:\\Code\\Datasets/laptop_data_cleaned.csv'\n",
    "\n",
    "df = pd.read_csv(file_path)\n",
    "\n",
    "print(f'데이터프레임 원본 : \\n{df}')"
   ]
  },
  {
   "cell_type": "markdown",
   "metadata": {},
   "source": [
    "## Data Pre-Processing"
   ]
  },
  {
   "cell_type": "code",
   "execution_count": 6,
   "metadata": {},
   "outputs": [
    {
     "data": {
      "text/plain": [
       "'\\n\\n컬럼 정보\\nCompany : 회사\\nTypeName : 노트북 종류\\n--------------------- 노트북의 가격 예측과 관련이 없다고 말할 수 있는가..?\\n\\nRam : 메모리\\nWeight : 무게\\nPrice : 가격\\nTouchScreen : 터치 스크린\\nIPS : IPS 화면\\nPpi : 해상도의 밀도 단위\\nCpu_brand : CPU 사양\\nHDD : hdd 용량\\nSSD : ssd 용량\\nGpu_brand : 그래픽카드 브랜드\\nOs : 운영체제\\n\\n'"
      ]
     },
     "execution_count": 6,
     "metadata": {},
     "output_type": "execute_result"
    }
   ],
   "source": [
    "# 데이터의 전반적인 정보 확인 #\n",
    "'''\n",
    "\n",
    "컬럼 정보\n",
    "Company : 회사\n",
    "TypeName : 노트북 종류\n",
    "--------------------- 노트북의 가격 예측과 관련이 없다고 말할 수 있는가..?\n",
    "\n",
    "Ram : 메모리\n",
    "Weight : 무게\n",
    "Price : 가격\n",
    "TouchScreen : 터치 스크린\n",
    "IPS : IPS 화면\n",
    "Ppi : 해상도의 밀도 단위\n",
    "Cpu_brand : CPU 사양\n",
    "HDD : hdd 용량\n",
    "SSD : ssd 용량\n",
    "Gpu_brand : 그래픽카드 브랜드\n",
    "Os : 운영체제\n",
    "\n",
    "'''"
   ]
  },
  {
   "cell_type": "code",
   "execution_count": 7,
   "metadata": {},
   "outputs": [
    {
     "data": {
      "text/plain": [
       "Company        0\n",
       "TypeName       0\n",
       "Ram            0\n",
       "Weight         0\n",
       "Price          0\n",
       "TouchScreen    0\n",
       "Ips            0\n",
       "Ppi            0\n",
       "Cpu_brand      0\n",
       "HDD            0\n",
       "SSD            0\n",
       "Gpu_brand      0\n",
       "Os             0\n",
       "dtype: int64"
      ]
     },
     "execution_count": 7,
     "metadata": {},
     "output_type": "execute_result"
    }
   ],
   "source": [
    "# 누락 데이터 확인\n",
    "\n",
    "df.isnull().sum()"
   ]
  },
  {
   "cell_type": "markdown",
   "metadata": {},
   "source": [
    "### 데이터 분석 목적에 영향이 없는 컬럼 제거"
   ]
  },
  {
   "cell_type": "code",
   "execution_count": 8,
   "metadata": {},
   "outputs": [
    {
     "name": "stdout",
     "output_type": "stream",
     "text": [
      "                TypeName  Ram  Weight      Price  TouchScreen  Ips  \\\n",
      "0              Ultrabook    8    1.37  11.175755            0    1   \n",
      "1              Ultrabook    8    1.34  10.776777            0    0   \n",
      "2               Notebook    8    1.86  10.329931            0    0   \n",
      "3              Ultrabook   16    1.83  11.814476            0    1   \n",
      "4              Ultrabook    8    1.37  11.473101            0    1   \n",
      "...                  ...  ...     ...        ...          ...  ...   \n",
      "1268            Notebook    4    2.20  10.555257            0    0   \n",
      "1269  2 in 1 Convertible    4    1.80  10.433899            1    1   \n",
      "1270  2 in 1 Convertible   16    1.30  11.288115            1    1   \n",
      "1271            Notebook    2    1.50   9.409283            0    0   \n",
      "1272            Notebook    6    2.19  10.614129            0    0   \n",
      "\n",
      "             Ppi              Cpu_brand   HDD  SSD Gpu_brand       Os  \n",
      "0     226.983005          Intel Core i5     0  128     Intel      Mac  \n",
      "1     127.677940          Intel Core i5     0    0     Intel      Mac  \n",
      "2     141.211998          Intel Core i5     0  256     Intel   Others  \n",
      "3     220.534624          Intel Core i7     0  512       AMD      Mac  \n",
      "4     226.983005          Intel Core i5     0  256     Intel      Mac  \n",
      "...          ...                    ...   ...  ...       ...      ...  \n",
      "1268  100.454670          Intel Core i7   500    0    Nvidia  Windows  \n",
      "1269  157.350512          Intel Core i7     0  128     Intel  Windows  \n",
      "1270  276.053530          Intel Core i7     0  512     Intel  Windows  \n",
      "1271  111.935204  Other Intel Processor     0    0     Intel  Windows  \n",
      "1272  100.454670          Intel Core i7  1000    0       AMD  Windows  \n",
      "\n",
      "[1273 rows x 12 columns]\n"
     ]
    }
   ],
   "source": [
    "df.drop(columns = ['Company'], inplace = True)\n",
    "\n",
    "print(df)"
   ]
  },
  {
   "cell_type": "code",
   "execution_count": 9,
   "metadata": {},
   "outputs": [],
   "source": [
    "df.drop(columns = ['TypeName'], inplace=True)"
   ]
  },
  {
   "cell_type": "code",
   "execution_count": 10,
   "metadata": {},
   "outputs": [
    {
     "name": "stdout",
     "output_type": "stream",
     "text": [
      "      Ram  Weight      Price  TouchScreen  Ips         Ppi  \\\n",
      "0       8    1.37  11.175755            0    1  226.983005   \n",
      "1       8    1.34  10.776777            0    0  127.677940   \n",
      "2       8    1.86  10.329931            0    0  141.211998   \n",
      "3      16    1.83  11.814476            0    1  220.534624   \n",
      "4       8    1.37  11.473101            0    1  226.983005   \n",
      "...   ...     ...        ...          ...  ...         ...   \n",
      "1268    4    2.20  10.555257            0    0  100.454670   \n",
      "1269    4    1.80  10.433899            1    1  157.350512   \n",
      "1270   16    1.30  11.288115            1    1  276.053530   \n",
      "1271    2    1.50   9.409283            0    0  111.935204   \n",
      "1272    6    2.19  10.614129            0    0  100.454670   \n",
      "\n",
      "                  Cpu_brand   HDD  SSD Gpu_brand       Os  \n",
      "0             Intel Core i5     0  128     Intel      Mac  \n",
      "1             Intel Core i5     0    0     Intel      Mac  \n",
      "2             Intel Core i5     0  256     Intel   Others  \n",
      "3             Intel Core i7     0  512       AMD      Mac  \n",
      "4             Intel Core i5     0  256     Intel      Mac  \n",
      "...                     ...   ...  ...       ...      ...  \n",
      "1268          Intel Core i7   500    0    Nvidia  Windows  \n",
      "1269          Intel Core i7     0  128     Intel  Windows  \n",
      "1270          Intel Core i7     0  512     Intel  Windows  \n",
      "1271  Other Intel Processor     0    0     Intel  Windows  \n",
      "1272          Intel Core i7  1000    0       AMD  Windows  \n",
      "\n",
      "[1273 rows x 11 columns]\n"
     ]
    }
   ],
   "source": [
    "print(df)"
   ]
  },
  {
   "cell_type": "markdown",
   "metadata": {},
   "source": [
    "# EDA"
   ]
  },
  {
   "cell_type": "code",
   "execution_count": 11,
   "metadata": {},
   "outputs": [
    {
     "name": "stdout",
     "output_type": "stream",
     "text": [
      "<class 'pandas.core.frame.DataFrame'>\n",
      "RangeIndex: 1273 entries, 0 to 1272\n",
      "Data columns (total 11 columns):\n",
      " #   Column       Non-Null Count  Dtype  \n",
      "---  ------       --------------  -----  \n",
      " 0   Ram          1273 non-null   int64  \n",
      " 1   Weight       1273 non-null   float64\n",
      " 2   Price        1273 non-null   float64\n",
      " 3   TouchScreen  1273 non-null   int64  \n",
      " 4   Ips          1273 non-null   int64  \n",
      " 5   Ppi          1273 non-null   float64\n",
      " 6   Cpu_brand    1273 non-null   object \n",
      " 7   HDD          1273 non-null   int64  \n",
      " 8   SSD          1273 non-null   int64  \n",
      " 9   Gpu_brand    1273 non-null   object \n",
      " 10  Os           1273 non-null   object \n",
      "dtypes: float64(3), int64(5), object(3)\n",
      "memory usage: 109.5+ KB\n"
     ]
    }
   ],
   "source": [
    "df.info()"
   ]
  },
  {
   "cell_type": "code",
   "execution_count": 21,
   "metadata": {},
   "outputs": [
    {
     "name": "stderr",
     "output_type": "stream",
     "text": [
      "C:\\Users\\zzamking\\AppData\\Local\\Temp\\ipykernel_7100\\3479104613.py:8: UserWarning: Dataset has 0 variance; skipping density estimate. Pass `warn_singular=False` to disable this warning.\n",
      "  sns.kdeplot(data=df, x='Price', hue='Ram')\n"
     ]
    },
    {
     "data": {
      "image/png": "[encoded data removed]",
      "text/plain": [
       "<Figure size 640x480 with 1 Axes>"
      ]
     },
     "metadata": {},
     "output_type": "display_data"
    }
   ],
   "source": [
    "### RAM컬럼과 Price컬럼의 관계 분석\n",
    "\n",
    "import matplotlib.pyplot as plt\n",
    "import seaborn as sns\n",
    "\n",
    "#---------------------------------\n",
    "\n",
    "sns.kdeplot(data=df, x='Price', hue='Ram')\n",
    "plt.show()\n",
    "\n"
   ]
  },
  {
   "cell_type": "markdown",
   "metadata": {},
   "source": []
  }
 ],
 "metadata": {
  "kernelspec": {
   "display_name": "rollbackTarget",
   "language": "python",
   "name": "conda"
  },
  "language_info": {
   "codemirror_mode": {
    "name": "ipython",
    "version": 3
   },
   "file_extension": ".py",
   "mimetype": "text/x-python",
   "name": "python",
   "nbconvert_exporter": "python",
   "pygments_lexer": "ipython3",
   "version": "3.11.5"
  }
 },
 "nbformat": 4,
 "nbformat_minor": 2
}
